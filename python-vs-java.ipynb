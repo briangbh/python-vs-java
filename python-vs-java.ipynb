{
  "metadata": {
    "language_info": {
      "codemirror_mode": {
        "name": "python",
        "version": 3
      },
      "file_extension": ".py",
      "mimetype": "text/x-python",
      "name": "python",
      "nbconvert_exporter": "python",
      "pygments_lexer": "ipython3",
      "version": "3.8"
    },
    "kernelspec": {
      "name": "python",
      "display_name": "Pyolite",
      "language": "python"
    }
  },
  "nbformat_minor": 4,
  "nbformat": 4,
  "cells": [
    {
      "cell_type": "markdown",
      "source": "# Python Versus Java\n\nExamples of [Python](https://www.python.org) concepts compared with [Java](https://docs.oracle.com/javase/8/docs/technotes/guides/language/index.html) concepts.",
      "metadata": {
        "tags": []
      }
    },
    {
      "cell_type": "markdown",
      "source": "## Numbers, Strings, Booleans, None",
      "metadata": {}
    },
    {
      "cell_type": "markdown",
      "source": "Simple types of values.",
      "metadata": {}
    },
    {
      "cell_type": "markdown",
      "source": "### Numbers",
      "metadata": {}
    },
    {
      "cell_type": "code",
      "source": "32 + 64  # add (uses + like Java)",
      "metadata": {
        "trusted": true
      },
      "execution_count": 14,
      "outputs": [
        {
          "execution_count": 14,
          "output_type": "execute_result",
          "data": {
            "text/plain": "96"
          },
          "metadata": {}
        }
      ]
    },
    {
      "cell_type": "code",
      "source": "24 * 6  # multiply (same as Java)",
      "metadata": {
        "trusted": true
      },
      "execution_count": 15,
      "outputs": [
        {
          "execution_count": 15,
          "output_type": "execute_result",
          "data": {
            "text/plain": "144"
          },
          "metadata": {}
        }
      ]
    },
    {
      "cell_type": "code",
      "source": "2 ** 8  # exponent (Java does not have this)",
      "metadata": {
        "trusted": true
      },
      "execution_count": 16,
      "outputs": [
        {
          "execution_count": 16,
          "output_type": "execute_result",
          "data": {
            "text/plain": "256"
          },
          "metadata": {}
        }
      ]
    },
    {
      "cell_type": "markdown",
      "source": "### Strings",
      "metadata": {}
    },
    {
      "cell_type": "code",
      "source": "\"soft\" + \"ware\"  # concatenate (like Java)",
      "metadata": {
        "trusted": true
      },
      "execution_count": 74,
      "outputs": [
        {
          "execution_count": 74,
          "output_type": "execute_result",
          "data": {
            "text/plain": "'software'"
          },
          "metadata": {}
        }
      ]
    },
    {
      "cell_type": "code",
      "source": "\"test,\" * 4  # repeat (Java does not have this)",
      "metadata": {
        "trusted": true
      },
      "execution_count": 80,
      "outputs": [
        {
          "execution_count": 80,
          "output_type": "execute_result",
          "data": {
            "text/plain": "'test,test,test,test,'"
          },
          "metadata": {}
        }
      ]
    },
    {
      "cell_type": "code",
      "source": "f\"{1 + 2 + 3} team members\"  # interpolate (called a \"format string\")",
      "metadata": {
        "trusted": true
      },
      "execution_count": 85,
      "outputs": [
        {
          "execution_count": 85,
          "output_type": "execute_result",
          "data": {
            "text/plain": "'6 team members'"
          },
          "metadata": {}
        }
      ]
    },
    {
      "cell_type": "markdown",
      "source": "### Booleans",
      "metadata": {}
    },
    {
      "cell_type": "code",
      "source": "True and False  # boolean AND (uses the word \"and\" instead of \"&&\")\n                # boolean values start with an uppercase letter - True, False (unlike Java)",
      "metadata": {
        "trusted": true
      },
      "execution_count": 82,
      "outputs": [
        {
          "execution_count": 82,
          "output_type": "execute_result",
          "data": {
            "text/plain": "False"
          },
          "metadata": {}
        }
      ]
    },
    {
      "cell_type": "code",
      "source": "False or True or False  # boolean OR (uses the word \"or\" instead of \"||\")",
      "metadata": {
        "trusted": true
      },
      "execution_count": 83,
      "outputs": [
        {
          "execution_count": 83,
          "output_type": "execute_result",
          "data": {
            "text/plain": "True"
          },
          "metadata": {}
        }
      ]
    },
    {
      "cell_type": "code",
      "source": "not True  # boolean NOT (uses the word \"not\" instead of \"!\")",
      "metadata": {
        "trusted": true
      },
      "execution_count": 84,
      "outputs": [
        {
          "execution_count": 84,
          "output_type": "execute_result",
          "data": {
            "text/plain": "False"
          },
          "metadata": {}
        }
      ]
    },
    {
      "cell_type": "markdown",
      "source": "### None",
      "metadata": {}
    },
    {
      "cell_type": "code",
      "source": "None is None  # null value (uses the word \"None\")\n              # check for None with the word \"is\"",
      "metadata": {
        "trusted": true
      },
      "execution_count": 87,
      "outputs": [
        {
          "execution_count": 87,
          "output_type": "execute_result",
          "data": {
            "text/plain": "True"
          },
          "metadata": {}
        }
      ]
    },
    {
      "cell_type": "code",
      "source": "int() is not None  # check if something is not None with the words \"is not\"",
      "metadata": {
        "trusted": true
      },
      "execution_count": 88,
      "outputs": [
        {
          "execution_count": 88,
          "output_type": "execute_result",
          "data": {
            "text/plain": "True"
          },
          "metadata": {}
        }
      ]
    },
    {
      "cell_type": "markdown",
      "source": "## Lists, Sets, Dictionaries",
      "metadata": {}
    },
    {
      "cell_type": "markdown",
      "source": "Groups of values.",
      "metadata": {}
    },
    {
      "cell_type": "markdown",
      "source": "### Lists",
      "metadata": {}
    },
    {
      "cell_type": "code",
      "source": "[1, 2, 3, 4, 5]  # list (use this instead of Array in Java)",
      "metadata": {
        "trusted": true
      },
      "execution_count": 68,
      "outputs": [
        {
          "execution_count": 68,
          "output_type": "execute_result",
          "data": {
            "text/plain": "[1, 2, 3, 4, 5]"
          },
          "metadata": {}
        }
      ]
    },
    {
      "cell_type": "code",
      "source": "[1, 2, 3, 4, 5][0]  # 0 index (same as Java)",
      "metadata": {
        "trusted": true
      },
      "execution_count": 27,
      "outputs": [
        {
          "execution_count": 27,
          "output_type": "execute_result",
          "data": {
            "text/plain": "1"
          },
          "metadata": {}
        }
      ]
    },
    {
      "cell_type": "code",
      "source": "[1, 2, 3, 4, 5][-1]  # -1 index (get last value, Java does not have this)",
      "metadata": {
        "trusted": true
      },
      "execution_count": 69,
      "outputs": [
        {
          "execution_count": 69,
          "output_type": "execute_result",
          "data": {
            "text/plain": "5"
          },
          "metadata": {}
        }
      ]
    },
    {
      "cell_type": "code",
      "source": "[1, 2, 3, 4, 5][1:4]  # slice of list - from 1 to (4 - 1)",
      "metadata": {
        "trusted": true
      },
      "execution_count": 30,
      "outputs": [
        {
          "execution_count": 30,
          "output_type": "execute_result",
          "data": {
            "text/plain": "[2, 3, 4]"
          },
          "metadata": {}
        }
      ]
    },
    {
      "cell_type": "markdown",
      "source": "### Sets",
      "metadata": {}
    },
    {
      "cell_type": "code",
      "source": "{\"a\", \"b\", \"c\"}  # set (use this for checking membership, similar to HashSet in Java)",
      "metadata": {
        "trusted": true
      },
      "execution_count": 36,
      "outputs": [
        {
          "execution_count": 36,
          "output_type": "execute_result",
          "data": {
            "text/plain": "{'a', 'b', 'c'}"
          },
          "metadata": {}
        }
      ]
    },
    {
      "cell_type": "code",
      "source": "{\"a\", \"b\"} | {\"c\", \"d\"}  # union",
      "metadata": {
        "trusted": true
      },
      "execution_count": 32,
      "outputs": [
        {
          "execution_count": 32,
          "output_type": "execute_result",
          "data": {
            "text/plain": "{'a', 'b', 'c', 'd'}"
          },
          "metadata": {}
        }
      ]
    },
    {
      "cell_type": "code",
      "source": "{\"a\", \"b\", \"c\", \"d\", \"e\"} & {\"b\", \"d\", \"f\"}  # intersection",
      "metadata": {
        "trusted": true
      },
      "execution_count": 34,
      "outputs": [
        {
          "execution_count": 34,
          "output_type": "execute_result",
          "data": {
            "text/plain": "{'b', 'd'}"
          },
          "metadata": {}
        }
      ]
    },
    {
      "cell_type": "markdown",
      "source": "### Dictionaries",
      "metadata": {}
    },
    {
      "cell_type": "code",
      "source": "{\"a\": 1, \"b\": 2, \"c\": 3}  # dictionary (use this instead of HashMap in Java)",
      "metadata": {
        "trusted": true
      },
      "execution_count": 38,
      "outputs": [
        {
          "execution_count": 38,
          "output_type": "execute_result",
          "data": {
            "text/plain": "{'a': 1, 'b': 2, 'c': 3}"
          },
          "metadata": {}
        }
      ]
    },
    {
      "cell_type": "code",
      "source": "{\"a\": 1, \"b\": 2, \"c\": 3}[\"c\"]  # look up value with key \"c\"",
      "metadata": {
        "trusted": true
      },
      "execution_count": 39,
      "outputs": [
        {
          "execution_count": 39,
          "output_type": "execute_result",
          "data": {
            "text/plain": "3"
          },
          "metadata": {}
        }
      ]
    },
    {
      "cell_type": "code",
      "source": "\"b\" in {\"a\": 1, \"b\": 2, \"c\": 3}  # check if dictionary contains key \"b\"",
      "metadata": {
        "trusted": true
      },
      "execution_count": 40,
      "outputs": [
        {
          "execution_count": 40,
          "output_type": "execute_result",
          "data": {
            "text/plain": "True"
          },
          "metadata": {}
        }
      ]
    },
    {
      "cell_type": "code",
      "source": "{\"a\": 1, \"b\": 2, \"c\": 3}.keys()  # list of keys",
      "metadata": {
        "trusted": true
      },
      "execution_count": 41,
      "outputs": [
        {
          "execution_count": 41,
          "output_type": "execute_result",
          "data": {
            "text/plain": "dict_keys(['a', 'b', 'c'])"
          },
          "metadata": {}
        }
      ]
    },
    {
      "cell_type": "code",
      "source": "{\"a\": 1, \"b\": 2, \"c\": 3}.values()  # list of values",
      "metadata": {
        "trusted": true
      },
      "execution_count": 42,
      "outputs": [
        {
          "execution_count": 42,
          "output_type": "execute_result",
          "data": {
            "text/plain": "dict_values([1, 2, 3])"
          },
          "metadata": {}
        }
      ]
    },
    {
      "cell_type": "markdown",
      "source": "## Variables, Types",
      "metadata": {}
    },
    {
      "cell_type": "markdown",
      "source": "Assign variables to values and check the types of variables.",
      "metadata": {}
    },
    {
      "cell_type": "markdown",
      "source": "### Assignments",
      "metadata": {}
    },
    {
      "cell_type": "code",
      "source": "n = 128  # assignment (types are not required in Python)",
      "metadata": {
        "trusted": true
      },
      "execution_count": 43,
      "outputs": []
    },
    {
      "cell_type": "code",
      "source": "s = \"word\"",
      "metadata": {
        "trusted": true
      },
      "execution_count": 44,
      "outputs": []
    },
    {
      "cell_type": "code",
      "source": "b = True",
      "metadata": {
        "trusted": true
      },
      "execution_count": 45,
      "outputs": []
    },
    {
      "cell_type": "markdown",
      "source": "### Type() Function",
      "metadata": {}
    },
    {
      "cell_type": "code",
      "source": "type(n)  # check type of variable with type() function (like instanceof in Java)",
      "metadata": {
        "trusted": true
      },
      "execution_count": 96,
      "outputs": [
        {
          "execution_count": 96,
          "output_type": "execute_result",
          "data": {
            "text/plain": "int"
          },
          "metadata": {}
        }
      ]
    },
    {
      "cell_type": "code",
      "source": "type(s)",
      "metadata": {
        "trusted": true
      },
      "execution_count": 47,
      "outputs": [
        {
          "execution_count": 47,
          "output_type": "execute_result",
          "data": {
            "text/plain": "str"
          },
          "metadata": {}
        }
      ]
    },
    {
      "cell_type": "code",
      "source": "type(b)",
      "metadata": {
        "trusted": true
      },
      "execution_count": 48,
      "outputs": [
        {
          "execution_count": 48,
          "output_type": "execute_result",
          "data": {
            "text/plain": "bool"
          },
          "metadata": {}
        }
      ]
    },
    {
      "cell_type": "markdown",
      "source": "### Check Types",
      "metadata": {}
    },
    {
      "cell_type": "code",
      "source": "type(n) is int",
      "metadata": {
        "trusted": true
      },
      "execution_count": 92,
      "outputs": [
        {
          "execution_count": 92,
          "output_type": "execute_result",
          "data": {
            "text/plain": "True"
          },
          "metadata": {}
        }
      ]
    },
    {
      "cell_type": "code",
      "source": "type(s) is str",
      "metadata": {
        "trusted": true
      },
      "execution_count": 93,
      "outputs": [
        {
          "execution_count": 93,
          "output_type": "execute_result",
          "data": {
            "text/plain": "True"
          },
          "metadata": {}
        }
      ]
    },
    {
      "cell_type": "code",
      "source": "type(b) is bool",
      "metadata": {
        "trusted": true
      },
      "execution_count": 94,
      "outputs": [
        {
          "execution_count": 94,
          "output_type": "execute_result",
          "data": {
            "text/plain": "True"
          },
          "metadata": {}
        }
      ]
    },
    {
      "cell_type": "markdown",
      "source": "### Type Specifiers",
      "metadata": {}
    },
    {
      "cell_type": "code",
      "source": "o: int = 256  # assignment with type specified (type goes after variable unlike Java!)",
      "metadata": {
        "trusted": true
      },
      "execution_count": 70,
      "outputs": []
    },
    {
      "cell_type": "code",
      "source": "type(o)",
      "metadata": {
        "trusted": true
      },
      "execution_count": 50,
      "outputs": [
        {
          "execution_count": 50,
          "output_type": "execute_result",
          "data": {
            "text/plain": "int"
          },
          "metadata": {}
        }
      ]
    },
    {
      "cell_type": "code",
      "source": "t: str = \"verb\"",
      "metadata": {
        "trusted": true
      },
      "execution_count": 51,
      "outputs": []
    },
    {
      "cell_type": "code",
      "source": "type(t)",
      "metadata": {
        "trusted": true
      },
      "execution_count": 52,
      "outputs": [
        {
          "execution_count": 52,
          "output_type": "execute_result",
          "data": {
            "text/plain": "str"
          },
          "metadata": {}
        }
      ]
    },
    {
      "cell_type": "code",
      "source": "c: bool = False",
      "metadata": {
        "trusted": true
      },
      "execution_count": 53,
      "outputs": []
    },
    {
      "cell_type": "code",
      "source": "type(c)",
      "metadata": {
        "trusted": true
      },
      "execution_count": 54,
      "outputs": [
        {
          "execution_count": 54,
          "output_type": "execute_result",
          "data": {
            "text/plain": "bool"
          },
          "metadata": {}
        }
      ]
    },
    {
      "cell_type": "markdown",
      "source": "## Imports",
      "metadata": {}
    },
    {
      "cell_type": "markdown",
      "source": "Use functions from the [Python Standard Library](https://docs.python.org/3/library/index.html) and external packages from [PyPI](https://pypi.org) (similar to [Maven](https://search.maven.org/)).",
      "metadata": {}
    },
    {
      "cell_type": "code",
      "source": "import statistics  # give the package name for importing\n\nvalues = [1, 2, 2, 3, 4, 7, 9]  # list of numbers\nstatistics.mean(values)         # package name is always a prefix in front of an imported function name (Java behaves very differently!)",
      "metadata": {
        "trusted": true
      },
      "execution_count": 98,
      "outputs": [
        {
          "execution_count": 98,
          "output_type": "execute_result",
          "data": {
            "text/plain": "4"
          },
          "metadata": {}
        }
      ]
    },
    {
      "cell_type": "code",
      "source": "%matplotlib inline",
      "metadata": {
        "trusted": true
      },
      "execution_count": 99,
      "outputs": []
    },
    {
      "cell_type": "markdown",
      "source": "(^ special instruction for the notebook environment)",
      "metadata": {}
    },
    {
      "cell_type": "code",
      "source": "from matplotlib import pyplot  # use \"from ... import ...\" to import a smaller package from a bigger package\n\nxs = [1, 2, 3, 4]      # x axis values\nys = [40, 55, 60, 75]  # y axis values\n\npyplot.plot(xs, ys, marker=\"^\")  # from the \"pyplot\" package, call the \"plot\" function, pass the \"xs\", \"ys\" parameters\npyplot.xlabel(\"x-axis\")\npyplot.ylabel(\"y-axis\")\npyplot.xlim([0, 5])\npyplot.ylim([0, 100])\npyplot.show()",
      "metadata": {
        "trusted": true
      },
      "execution_count": 101,
      "outputs": [
        {
          "output_type": "display_data",
          "data": {
            "text/plain": "<pyolite.display.Image at 0x580ea38>",
            "image/png": "[encoded data removed]"
          },
          "metadata": {}
        },
        {
          "output_type": "display_data",
          "data": {
            "text/plain": "<Figure size 432x288 with 0 Axes>"
          },
          "metadata": {}
        }
      ]
    },
    {
      "cell_type": "markdown",
      "source": "## Functions",
      "metadata": {}
    },
    {
      "cell_type": "markdown",
      "source": "Define units of code.",
      "metadata": {}
    },
    {
      "cell_type": "code",
      "source": "def add_5(n):     # define functions with the word \"def\", function names use snake_case (lowercase words with underscores)\n    return n + 5  # indent the body of the function with 4 spaces",
      "metadata": {
        "trusted": true
      },
      "execution_count": 117,
      "outputs": []
    },
    {
      "cell_type": "code",
      "source": "add_5(7)  # call the function with the name + \"()\"",
      "metadata": {
        "trusted": true
      },
      "execution_count": 113,
      "outputs": [
        {
          "execution_count": 113,
          "output_type": "execute_result",
          "data": {
            "text/plain": "12"
          },
          "metadata": {}
        }
      ]
    },
    {
      "cell_type": "code",
      "source": "def incomplete():  # fill the body of empty stub functions with the word \"pass\"\n    pass",
      "metadata": {
        "trusted": true
      },
      "execution_count": 114,
      "outputs": []
    },
    {
      "cell_type": "code",
      "source": "import random\nfrom matplotlib import pyplot\n\ndef increase_value(price: float) -> float:        # type specifiers for a function, use \"->\" to specify return type\n    increase = random.choice([0.05, 0.10, 0.20])\n    return price * (1.0 + increase)\n    \nstock_prices = [\n    increase_value(159.95), increase_value(145.00), increase_value(194.50), increase_value(281.75)\n]\nstock_names  = [\n    \"AAPL\", \"ABNB\", \"NFLX\", \"MSFT\"\n]\nindices = range(4)\n\npyplot.bar(indices, stock_prices)\npyplot.xticks(indices, stock_names)\npyplot.show()",
      "metadata": {
        "trusted": true
      },
      "execution_count": 119,
      "outputs": [
        {
          "output_type": "display_data",
          "data": {
            "text/plain": "<pyolite.display.Image at 0x5b44790>",
            "image/png": "[encoded data removed]"
          },
          "metadata": {}
        },
        {
          "output_type": "display_data",
          "data": {
            "text/plain": "<Figure size 432x288 with 0 Axes>"
          },
          "metadata": {}
        }
      ]
    },
    {
      "cell_type": "markdown",
      "source": "## Classes",
      "metadata": {}
    },
    {
      "cell_type": "markdown",
      "source": "Combine code and state.",
      "metadata": {}
    },
    {
      "cell_type": "code",
      "source": "",
      "metadata": {},
      "execution_count": null,
      "outputs": []
    }
  ]
}