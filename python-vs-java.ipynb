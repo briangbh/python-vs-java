{
  "metadata": {
    "language_info": {
      "codemirror_mode": {
        "name": "python",
        "version": 3
      },
      "file_extension": ".py",
      "mimetype": "text/x-python",
      "name": "python",
      "nbconvert_exporter": "python",
      "pygments_lexer": "ipython3",
      "version": "3.8"
    },
    "kernelspec": {
      "name": "python",
      "display_name": "Pyolite",
      "language": "python"
    }
  },
  "nbformat_minor": 4,
  "nbformat": 4,
  "cells": [
    {
      "cell_type": "markdown",
      "source": "# Python Versus Java\n\nExamples of [Python](https://www.python.org) concepts compared with [Java](https://docs.oracle.com/javase/8/docs/technotes/guides/language/index.html) concepts.",
      "metadata": {
        "tags": []
      }
    },
    {
      "cell_type": "markdown",
      "source": "## Numbers, Strings, Booleans, None",
      "metadata": {}
    },
    {
      "cell_type": "markdown",
      "source": "Simple types of values.",
      "metadata": {}
    },
    {
      "cell_type": "markdown",
      "source": "### Numbers",
      "metadata": {}
    },
    {
      "cell_type": "markdown",
      "source": "Read [Numeric Types](https://docs.python.org/3/library/stdtypes.html#numeric-types-int-float-complex) for details.",
      "metadata": {}
    },
    {
      "cell_type": "code",
      "source": "32 + 64  # add (use + like Java)",
      "metadata": {
        "trusted": true
      },
      "execution_count": 1,
      "outputs": [
        {
          "execution_count": 1,
          "output_type": "execute_result",
          "data": {
            "text/plain": "96"
          },
          "metadata": {}
        }
      ]
    },
    {
      "cell_type": "code",
      "source": "24 * 6  # multiply (same as Java)",
      "metadata": {
        "trusted": true
      },
      "execution_count": 2,
      "outputs": [
        {
          "execution_count": 2,
          "output_type": "execute_result",
          "data": {
            "text/plain": "144"
          },
          "metadata": {}
        }
      ]
    },
    {
      "cell_type": "code",
      "source": "2 ** 8  # exponent (use this instead of Math.pow() in Java)",
      "metadata": {
        "trusted": true
      },
      "execution_count": 3,
      "outputs": [
        {
          "execution_count": 3,
          "output_type": "execute_result",
          "data": {
            "text/plain": "256"
          },
          "metadata": {}
        }
      ]
    },
    {
      "cell_type": "markdown",
      "source": "### Strings",
      "metadata": {}
    },
    {
      "cell_type": "markdown",
      "source": "Read [Text Sequence Type](https://docs.python.org/3/library/stdtypes.html#text-sequence-type-str) for details.",
      "metadata": {}
    },
    {
      "cell_type": "code",
      "source": "\"soft\" + \"ware\"  # concatenate (use + like Java)",
      "metadata": {
        "trusted": true
      },
      "execution_count": 4,
      "outputs": [
        {
          "execution_count": 4,
          "output_type": "execute_result",
          "data": {
            "text/plain": "'software'"
          },
          "metadata": {}
        }
      ]
    },
    {
      "cell_type": "code",
      "source": "\"test,\" * 4  # repeat (Java does not have this)",
      "metadata": {
        "trusted": true
      },
      "execution_count": 5,
      "outputs": [
        {
          "execution_count": 5,
          "output_type": "execute_result",
          "data": {
            "text/plain": "'test,test,test,test,'"
          },
          "metadata": {}
        }
      ]
    },
    {
      "cell_type": "code",
      "source": "f\"{1 + 2 + 3} team members\"  # interpolate, this is called a \"format string\" (use this instead of String.format() in Java)",
      "metadata": {
        "trusted": true
      },
      "execution_count": 6,
      "outputs": [
        {
          "execution_count": 6,
          "output_type": "execute_result",
          "data": {
            "text/plain": "'6 team members'"
          },
          "metadata": {}
        }
      ]
    },
    {
      "cell_type": "markdown",
      "source": "### Booleans",
      "metadata": {}
    },
    {
      "cell_type": "markdown",
      "source": "Read [Boolean Operations](https://docs.python.org/3/library/stdtypes.html#boolean-operations-and-or-not) for details.",
      "metadata": {}
    },
    {
      "cell_type": "code",
      "source": "True and False  # boolean AND (uses the word \"and\" instead of \"&&\")\n                # boolean values start with an uppercase letter - True, False (unlike Java)",
      "metadata": {
        "trusted": true
      },
      "execution_count": 7,
      "outputs": [
        {
          "execution_count": 7,
          "output_type": "execute_result",
          "data": {
            "text/plain": "False"
          },
          "metadata": {}
        }
      ]
    },
    {
      "cell_type": "code",
      "source": "False or True or False  # boolean OR (uses the word \"or\" instead of \"||\")",
      "metadata": {
        "trusted": true
      },
      "execution_count": 8,
      "outputs": [
        {
          "execution_count": 8,
          "output_type": "execute_result",
          "data": {
            "text/plain": "True"
          },
          "metadata": {}
        }
      ]
    },
    {
      "cell_type": "code",
      "source": "not True  # boolean NOT (uses the word \"not\" instead of \"!\")",
      "metadata": {
        "trusted": true
      },
      "execution_count": 9,
      "outputs": [
        {
          "execution_count": 9,
          "output_type": "execute_result",
          "data": {
            "text/plain": "False"
          },
          "metadata": {}
        }
      ]
    },
    {
      "cell_type": "markdown",
      "source": "### None",
      "metadata": {}
    },
    {
      "cell_type": "markdown",
      "source": "Read [Null Object](https://docs.python.org/3/library/stdtypes.html#the-null-object) for details.",
      "metadata": {}
    },
    {
      "cell_type": "code",
      "source": "None is None  # null value (uses the word \"None\")\n              # check for None with the word \"is\" (instead of \"==\" in Java)",
      "metadata": {
        "trusted": true
      },
      "execution_count": 10,
      "outputs": [
        {
          "execution_count": 10,
          "output_type": "execute_result",
          "data": {
            "text/plain": "True"
          },
          "metadata": {}
        }
      ]
    },
    {
      "cell_type": "code",
      "source": "object() is not None  # check if something is not None with the words \"is not\"",
      "metadata": {
        "trusted": true
      },
      "execution_count": 11,
      "outputs": [
        {
          "execution_count": 11,
          "output_type": "execute_result",
          "data": {
            "text/plain": "True"
          },
          "metadata": {}
        }
      ]
    },
    {
      "cell_type": "markdown",
      "source": "## Lists, Sets, Dictionaries",
      "metadata": {}
    },
    {
      "cell_type": "markdown",
      "source": "Groups of values.",
      "metadata": {}
    },
    {
      "cell_type": "markdown",
      "source": "### Lists",
      "metadata": {}
    },
    {
      "cell_type": "markdown",
      "source": "Read [Sequence Types](https://docs.python.org/3/library/stdtypes.html#sequence-types-list-tuple-range) for details.",
      "metadata": {}
    },
    {
      "cell_type": "code",
      "source": "[1, 2, 3, 4, 5]  # list (use this instead of Array in Java)",
      "metadata": {
        "trusted": true
      },
      "execution_count": 12,
      "outputs": [
        {
          "execution_count": 12,
          "output_type": "execute_result",
          "data": {
            "text/plain": "[1, 2, 3, 4, 5]"
          },
          "metadata": {}
        }
      ]
    },
    {
      "cell_type": "code",
      "source": "[1, 2, 3, 4, 5][0]  # 0 index, get first value (same as Java)",
      "metadata": {
        "trusted": true
      },
      "execution_count": 13,
      "outputs": [
        {
          "execution_count": 13,
          "output_type": "execute_result",
          "data": {
            "text/plain": "1"
          },
          "metadata": {}
        }
      ]
    },
    {
      "cell_type": "code",
      "source": "[1, 2, 3, 4, 5][-1]  # -1 index, get last value (use this instead of array[array.length - 1] in Java)",
      "metadata": {
        "trusted": true
      },
      "execution_count": 14,
      "outputs": [
        {
          "execution_count": 14,
          "output_type": "execute_result",
          "data": {
            "text/plain": "5"
          },
          "metadata": {}
        }
      ]
    },
    {
      "cell_type": "code",
      "source": "[1, 2, 3, 4, 5][1:4]  # slice of list, from 1 to (4 - 1) (use this instead of .subList() in Java)",
      "metadata": {
        "trusted": true
      },
      "execution_count": 15,
      "outputs": [
        {
          "execution_count": 15,
          "output_type": "execute_result",
          "data": {
            "text/plain": "[2, 3, 4]"
          },
          "metadata": {}
        }
      ]
    },
    {
      "cell_type": "code",
      "source": "3 in [1, 2, 3, 4, 5]  # check if 3 is in the list (use this instead of .contains() in Java)",
      "metadata": {
        "trusted": true
      },
      "execution_count": 16,
      "outputs": [
        {
          "execution_count": 16,
          "output_type": "execute_result",
          "data": {
            "text/plain": "True"
          },
          "metadata": {}
        }
      ]
    },
    {
      "cell_type": "markdown",
      "source": "### Sets",
      "metadata": {}
    },
    {
      "cell_type": "markdown",
      "source": "Read [Set Types](https://docs.python.org/3/library/stdtypes.html#set-types-set-frozenset) for details.",
      "metadata": {}
    },
    {
      "cell_type": "code",
      "source": "{\"a\", \"b\", \"c\"}  # set (use this for checking membership, similar to HashSet in Java)",
      "metadata": {
        "trusted": true
      },
      "execution_count": 17,
      "outputs": [
        {
          "execution_count": 17,
          "output_type": "execute_result",
          "data": {
            "text/plain": "{'a', 'b', 'c'}"
          },
          "metadata": {}
        }
      ]
    },
    {
      "cell_type": "code",
      "source": "{\"a\", \"b\"} | {\"c\", \"d\"}  # union",
      "metadata": {
        "trusted": true
      },
      "execution_count": 18,
      "outputs": [
        {
          "execution_count": 18,
          "output_type": "execute_result",
          "data": {
            "text/plain": "{'a', 'b', 'c', 'd'}"
          },
          "metadata": {}
        }
      ]
    },
    {
      "cell_type": "code",
      "source": "{\"a\", \"b\", \"c\", \"d\", \"e\"} & {\"b\", \"d\", \"f\"}  # intersection",
      "metadata": {
        "trusted": true
      },
      "execution_count": 19,
      "outputs": [
        {
          "execution_count": 19,
          "output_type": "execute_result",
          "data": {
            "text/plain": "{'b', 'd'}"
          },
          "metadata": {}
        }
      ]
    },
    {
      "cell_type": "code",
      "source": "{\"a\", \"b\", \"c\"} < {\"a\", \"b\", \"c\", \"d\", \"e\"}  # check if first set is a subset of second set",
      "metadata": {
        "trusted": true
      },
      "execution_count": 20,
      "outputs": [
        {
          "execution_count": 20,
          "output_type": "execute_result",
          "data": {
            "text/plain": "True"
          },
          "metadata": {}
        }
      ]
    },
    {
      "cell_type": "code",
      "source": "\"d\" in {\"a\", \"b\", \"c\", \"d\", \"e\"}  # check if \"d\" is in the set (use this instead of .contains() in Java)",
      "metadata": {
        "trusted": true
      },
      "execution_count": 21,
      "outputs": [
        {
          "execution_count": 21,
          "output_type": "execute_result",
          "data": {
            "text/plain": "True"
          },
          "metadata": {}
        }
      ]
    },
    {
      "cell_type": "markdown",
      "source": "### Dictionaries",
      "metadata": {}
    },
    {
      "cell_type": "markdown",
      "source": "Read [Mapping Types](https://docs.python.org/3/library/stdtypes.html#mapping-types-dict) for details.",
      "metadata": {}
    },
    {
      "cell_type": "code",
      "source": "{\"a\": 1, \"b\": 2, \"c\": 3}  # dictionary (use this instead of HashMap in Java)",
      "metadata": {
        "trusted": true
      },
      "execution_count": 22,
      "outputs": [
        {
          "execution_count": 22,
          "output_type": "execute_result",
          "data": {
            "text/plain": "{'a': 1, 'b': 2, 'c': 3}"
          },
          "metadata": {}
        }
      ]
    },
    {
      "cell_type": "code",
      "source": "{\"a\": 1, \"b\": 2, \"c\": 3}[\"c\"]  # look up value with key \"c\"",
      "metadata": {
        "trusted": true
      },
      "execution_count": 23,
      "outputs": [
        {
          "execution_count": 23,
          "output_type": "execute_result",
          "data": {
            "text/plain": "3"
          },
          "metadata": {}
        }
      ]
    },
    {
      "cell_type": "code",
      "source": "\"b\" in {\"a\": 1, \"b\": 2, \"c\": 3}  # check if dictionary contains key \"b\" (use this instead of .containsKey() in Java)",
      "metadata": {
        "trusted": true
      },
      "execution_count": 24,
      "outputs": [
        {
          "execution_count": 24,
          "output_type": "execute_result",
          "data": {
            "text/plain": "True"
          },
          "metadata": {}
        }
      ]
    },
    {
      "cell_type": "code",
      "source": "{\"a\": 1, \"b\": 2, \"c\": 3}.keys()  # list of keys (use this instead of .keySet() in Java)",
      "metadata": {
        "trusted": true
      },
      "execution_count": 25,
      "outputs": [
        {
          "execution_count": 25,
          "output_type": "execute_result",
          "data": {
            "text/plain": "dict_keys(['a', 'b', 'c'])"
          },
          "metadata": {}
        }
      ]
    },
    {
      "cell_type": "code",
      "source": "{\"a\": 1, \"b\": 2, \"c\": 3}.values()  # list of values (similar to .values() in Java)",
      "metadata": {
        "trusted": true
      },
      "execution_count": 26,
      "outputs": [
        {
          "execution_count": 26,
          "output_type": "execute_result",
          "data": {
            "text/plain": "dict_values([1, 2, 3])"
          },
          "metadata": {}
        }
      ]
    },
    {
      "cell_type": "code",
      "source": "{\"a\": 1, \"b\": 2, \"c\": 3}.items()  # pairs of keys, values (use this instead of .entrySet() in Java)",
      "metadata": {
        "trusted": true
      },
      "execution_count": 27,
      "outputs": [
        {
          "execution_count": 27,
          "output_type": "execute_result",
          "data": {
            "text/plain": "dict_items([('a', 1), ('b', 2), ('c', 3)])"
          },
          "metadata": {}
        }
      ]
    },
    {
      "cell_type": "markdown",
      "source": "## Variables, Types",
      "metadata": {}
    },
    {
      "cell_type": "markdown",
      "source": "Assign variables to values and check the types of variables.",
      "metadata": {}
    },
    {
      "cell_type": "markdown",
      "source": "### Assignments",
      "metadata": {}
    },
    {
      "cell_type": "code",
      "source": "n = 128  # assignment (types are not required in Python)",
      "metadata": {
        "trusted": true
      },
      "execution_count": 28,
      "outputs": []
    },
    {
      "cell_type": "code",
      "source": "s = \"word\"",
      "metadata": {
        "trusted": true
      },
      "execution_count": 29,
      "outputs": []
    },
    {
      "cell_type": "code",
      "source": "b = True",
      "metadata": {
        "trusted": true
      },
      "execution_count": 30,
      "outputs": []
    },
    {
      "cell_type": "markdown",
      "source": "### Type() Function",
      "metadata": {}
    },
    {
      "cell_type": "code",
      "source": "type(n)  # view type of variable with type() function (like .getClass() in Java)",
      "metadata": {
        "trusted": true
      },
      "execution_count": 31,
      "outputs": [
        {
          "execution_count": 31,
          "output_type": "execute_result",
          "data": {
            "text/plain": "int"
          },
          "metadata": {}
        }
      ]
    },
    {
      "cell_type": "code",
      "source": "type(s)",
      "metadata": {
        "trusted": true
      },
      "execution_count": 32,
      "outputs": [
        {
          "execution_count": 32,
          "output_type": "execute_result",
          "data": {
            "text/plain": "str"
          },
          "metadata": {}
        }
      ]
    },
    {
      "cell_type": "code",
      "source": "type(b)",
      "metadata": {
        "trusted": true
      },
      "execution_count": 33,
      "outputs": [
        {
          "execution_count": 33,
          "output_type": "execute_result",
          "data": {
            "text/plain": "bool"
          },
          "metadata": {}
        }
      ]
    },
    {
      "cell_type": "markdown",
      "source": "### Check Types",
      "metadata": {}
    },
    {
      "cell_type": "code",
      "source": "type(n) is int  # check type of variable with the word \"is\" (like instanceof in Java)",
      "metadata": {
        "trusted": true
      },
      "execution_count": 34,
      "outputs": [
        {
          "execution_count": 34,
          "output_type": "execute_result",
          "data": {
            "text/plain": "True"
          },
          "metadata": {}
        }
      ]
    },
    {
      "cell_type": "code",
      "source": "type(s) is str",
      "metadata": {
        "trusted": true
      },
      "execution_count": 35,
      "outputs": [
        {
          "execution_count": 35,
          "output_type": "execute_result",
          "data": {
            "text/plain": "True"
          },
          "metadata": {}
        }
      ]
    },
    {
      "cell_type": "code",
      "source": "type(b) is bool",
      "metadata": {
        "trusted": true
      },
      "execution_count": 36,
      "outputs": [
        {
          "execution_count": 36,
          "output_type": "execute_result",
          "data": {
            "text/plain": "True"
          },
          "metadata": {}
        }
      ]
    },
    {
      "cell_type": "markdown",
      "source": "### Type Annotations",
      "metadata": {}
    },
    {
      "cell_type": "code",
      "source": "o: int = 256  # assignment with type annotation (type goes after variable unlike Java!)",
      "metadata": {
        "trusted": true
      },
      "execution_count": 37,
      "outputs": []
    },
    {
      "cell_type": "code",
      "source": "type(o)",
      "metadata": {
        "trusted": true
      },
      "execution_count": 38,
      "outputs": [
        {
          "execution_count": 38,
          "output_type": "execute_result",
          "data": {
            "text/plain": "int"
          },
          "metadata": {}
        }
      ]
    },
    {
      "cell_type": "code",
      "source": "t: str = \"verb\"",
      "metadata": {
        "trusted": true
      },
      "execution_count": 39,
      "outputs": []
    },
    {
      "cell_type": "code",
      "source": "type(t)",
      "metadata": {
        "trusted": true
      },
      "execution_count": 40,
      "outputs": [
        {
          "execution_count": 40,
          "output_type": "execute_result",
          "data": {
            "text/plain": "str"
          },
          "metadata": {}
        }
      ]
    },
    {
      "cell_type": "code",
      "source": "c: bool = False",
      "metadata": {
        "trusted": true
      },
      "execution_count": 41,
      "outputs": []
    },
    {
      "cell_type": "code",
      "source": "type(c)",
      "metadata": {
        "trusted": true
      },
      "execution_count": 42,
      "outputs": [
        {
          "execution_count": 42,
          "output_type": "execute_result",
          "data": {
            "text/plain": "bool"
          },
          "metadata": {}
        }
      ]
    },
    {
      "cell_type": "markdown",
      "source": "## Imports",
      "metadata": {}
    },
    {
      "cell_type": "markdown",
      "source": "Use functions from the [Python Standard Library](https://docs.python.org/3/library/index.html) and external packages from [PyPI](https://pypi.org) (similar to [Maven](https://search.maven.org/)).",
      "metadata": {}
    },
    {
      "cell_type": "code",
      "source": "import statistics  # give the package name for importing\n\nvalues = [1, 2, 2, 3, 4, 7, 9]  # list of numbers\nstatistics.mean(values)         # package name is always a prefix in front of an imported function name (Java behaves very differently!)",
      "metadata": {
        "trusted": true
      },
      "execution_count": 43,
      "outputs": [
        {
          "execution_count": 43,
          "output_type": "execute_result",
          "data": {
            "text/plain": "4"
          },
          "metadata": {}
        }
      ]
    },
    {
      "cell_type": "code",
      "source": "%matplotlib inline",
      "metadata": {
        "trusted": true
      },
      "execution_count": 44,
      "outputs": []
    },
    {
      "cell_type": "markdown",
      "source": "(^ special instruction for the notebook environment)",
      "metadata": {}
    },
    {
      "cell_type": "code",
      "source": "from matplotlib import pyplot                # use \"from ... import ...\" to import a smaller package from a bigger package\n\ndays = [0, 1, 2, 3, 4, 5, 6]                 # x axis values\ntemperatures = [8, 6, 12, 15, 23, 18, 16]    # y axis values\n\npyplot.plot(days, temperatures, marker=\"^\")  # from the \"pyplot\" package, call the \"plot\" function, pass \"days\", \"temperatures\"\npyplot.xlabel(\"days of the week\")\npyplot.ylabel(\"temperatures (C°)\")\npyplot.xlim([0, 6])\npyplot.ylim([0, 25])\npyplot.show()",
      "metadata": {
        "trusted": true
      },
      "execution_count": 45,
      "outputs": [
        {
          "output_type": "display_data",
          "data": {
            "text/plain": "<pyolite.display.Image at 0x2fc3ff8>",
            "image/png": "[encoded data removed]"
          },
          "metadata": {}
        },
        {
          "output_type": "display_data",
          "data": {
            "text/plain": "<Figure size 432x288 with 0 Axes>"
          },
          "metadata": {}
        }
      ]
    },
    {
      "cell_type": "markdown",
      "source": "## Functions",
      "metadata": {}
    },
    {
      "cell_type": "markdown",
      "source": "Define units of code.",
      "metadata": {}
    },
    {
      "cell_type": "code",
      "source": "def add_5(n):     # define functions with the word \"def\", function names use snake_case (lowercase words with underscores)\n    return n + 5  # indent the body of the function with 4 spaces, return a value with the word \"return\"",
      "metadata": {
        "trusted": true
      },
      "execution_count": 46,
      "outputs": []
    },
    {
      "cell_type": "code",
      "source": "add_5(7)          # call the function with function_name + \"()\"",
      "metadata": {
        "trusted": true
      },
      "execution_count": 47,
      "outputs": [
        {
          "execution_count": 47,
          "output_type": "execute_result",
          "data": {
            "text/plain": "12"
          },
          "metadata": {}
        }
      ]
    },
    {
      "cell_type": "code",
      "source": "def add_suffix(s, suffix=\"ly\"):  # parameters can have a default value using the \"=\" symbol\n    return s + suffix",
      "metadata": {
        "trusted": true
      },
      "execution_count": 48,
      "outputs": []
    },
    {
      "cell_type": "code",
      "source": "add_suffix(\"soft\")  # parameter with a default value becomes optional in a function call (we did not pass a \"suffix\" parameter!)",
      "metadata": {
        "trusted": true
      },
      "execution_count": 49,
      "outputs": [
        {
          "execution_count": 49,
          "output_type": "execute_result",
          "data": {
            "text/plain": "'softly'"
          },
          "metadata": {}
        }
      ]
    },
    {
      "cell_type": "code",
      "source": "add_suffix(\"grow\", suffix=\"ing\")  # also, default parameters allow you to give the name of the parameter",
      "metadata": {
        "trusted": true
      },
      "execution_count": 50,
      "outputs": [
        {
          "execution_count": 50,
          "output_type": "execute_result",
          "data": {
            "text/plain": "'growing'"
          },
          "metadata": {}
        }
      ]
    },
    {
      "cell_type": "code",
      "source": "def incomplete():  # fill the body of empty stub functions with the word \"pass\"\n    pass",
      "metadata": {
        "trusted": true
      },
      "execution_count": 51,
      "outputs": []
    },
    {
      "cell_type": "code",
      "source": "import random\nfrom matplotlib import pyplot\n\ndef increase_value(price: float) -> float:        # type annotations for a function, use \"->\" to specify return type\n    increase = random.choice([0.05, 0.10, 0.20])\n    return price * (1.0 + increase)\n \nstock_names  = [\n    \"AAPL\", \"ABNB\", \"NFLX\", \"PYPL\"\n]\nstock_prices = [\n    increase_value(159.95), increase_value(145.00), increase_value(194.50), increase_value(87.85)\n]\nindices = range(4)  # use \"range()\" to generate a sequence of numbers\n\npyplot.bar(indices, stock_prices, color=\"green\")\npyplot.xticks(indices, stock_names)\npyplot.show()",
      "metadata": {
        "trusted": true
      },
      "execution_count": 52,
      "outputs": [
        {
          "output_type": "display_data",
          "data": {
            "text/plain": "<pyolite.display.Image at 0x3375990>",
            "image/png": "[encoded data removed]"
          },
          "metadata": {}
        },
        {
          "output_type": "display_data",
          "data": {
            "text/plain": "<Figure size 432x288 with 0 Axes>"
          },
          "metadata": {}
        }
      ]
    },
    {
      "cell_type": "markdown",
      "source": "## Classes, Exceptions",
      "metadata": {}
    },
    {
      "cell_type": "markdown",
      "source": "Mix code with state. Handle errors.",
      "metadata": {}
    },
    {
      "cell_type": "markdown",
      "source": "### Classes",
      "metadata": {}
    },
    {
      "cell_type": "markdown",
      "source": "Read [Class Definitions](https://docs.python.org/3/reference/compound_stmts.html#class-definitions) for details.",
      "metadata": {}
    },
    {
      "cell_type": "code",
      "source": "class Engineer:                # define classes with the word \"class\", class names use TitleCase \n                               # indent the body of the class with 4 spaces\n\n    def __init__(self, name):  # constructor method is named \"__init__\" \n        self.name = name       # use the \"self\" value to assign instance variables for the class (like \"this\" in Java)\n    \n    def hello(self):           # always write the \"self\" value as the first parameter of all methods in the class\n        return f\"\"\"\n          <html>\n            <body>\n              <p>Hello, I am {self.name}</p>\n            </body>\n          </html>\n        \"\"\"",
      "metadata": {
        "trusted": true
      },
      "execution_count": 53,
      "outputs": []
    },
    {
      "cell_type": "code",
      "source": "Engineer(\"Maria\")  # create object with ClassName + \"()\"",
      "metadata": {
        "trusted": true
      },
      "execution_count": 54,
      "outputs": [
        {
          "execution_count": 54,
          "output_type": "execute_result",
          "data": {
            "text/plain": "<__main__.Engineer at 0x2fae6b8>"
          },
          "metadata": {}
        }
      ]
    },
    {
      "cell_type": "code",
      "source": "Engineer(\"Ben\").hello()  # create object, call \"hello()\" method",
      "metadata": {
        "trusted": true
      },
      "execution_count": 55,
      "outputs": [
        {
          "execution_count": 55,
          "output_type": "execute_result",
          "data": {
            "text/plain": "'\\n          <html>\\n            <body>\\n              <p>Hello, I am Ben</p>\\n            </body>\\n          </html>\\n        '"
          },
          "metadata": {}
        }
      ]
    },
    {
      "cell_type": "code",
      "source": "import random\n\nclass TestEngineer(Engineer):  # use \"SubClass(BaseClass)\" to create a sub-class\n                               # sub-classes will have all methods from the base class (like \"__init__\" and \"hello\")\n    def run_test(self):\n        return random.choice([\"PASS\", \"FAIL\"])",
      "metadata": {
        "trusted": true
      },
      "execution_count": 56,
      "outputs": []
    },
    {
      "cell_type": "code",
      "source": "te = TestEngineer(\"Andre\")\nte.run_test()",
      "metadata": {
        "trusted": true
      },
      "execution_count": 57,
      "outputs": [
        {
          "execution_count": 57,
          "output_type": "execute_result",
          "data": {
            "text/plain": "'PASS'"
          },
          "metadata": {}
        }
      ]
    },
    {
      "cell_type": "markdown",
      "source": "### Exceptions",
      "metadata": {}
    },
    {
      "cell_type": "markdown",
      "source": "Read [Exceptions](https://docs.python.org/3/reference/executionmodel.html#exceptions) for details.",
      "metadata": {}
    },
    {
      "cell_type": "code",
      "source": "{\"x\": 10}[\"y\"]  # look up a missing key and Python raises the KeyError exception",
      "metadata": {
        "trusted": true
      },
      "execution_count": 58,
      "outputs": [
        {
          "ename": "<class 'KeyError'>",
          "evalue": "'y'",
          "traceback": [
            "\u001b[0;31m---------------------------------------------------------------------------\u001b[0m",
            "\u001b[0;31mKeyError\u001b[0m                                  Traceback (most recent call last)",
            "Input \u001b[0;32mIn [58]\u001b[0m, in \u001b[0;36m<cell line: 1>\u001b[0;34m()\u001b[0m\n\u001b[0;32m----> 1\u001b[0m \u001b[43m{\u001b[49m\u001b[38;5;124;43m\"\u001b[39;49m\u001b[38;5;124;43mx\u001b[39;49m\u001b[38;5;124;43m\"\u001b[39;49m\u001b[43m:\u001b[49m\u001b[43m \u001b[49m\u001b[38;5;241;43m10\u001b[39;49m\u001b[43m}\u001b[49m\u001b[43m[\u001b[49m\u001b[38;5;124;43m\"\u001b[39;49m\u001b[38;5;124;43my\u001b[39;49m\u001b[38;5;124;43m\"\u001b[39;49m\u001b[43m]\u001b[49m\n",
            "\u001b[0;31mKeyError\u001b[0m: 'y'"
          ],
          "output_type": "error"
        }
      ]
    },
    {
      "cell_type": "code",
      "source": "key = \"reports_to\"\n\ntry:                                               # try to run exception raising code with the word \"try\" (same as Java)\n    look_up_result = {\"role\": \"engineer\"}[key]\nexcept KeyError:                                   # catch exceptions with the word \"except\" (unlike Java)\n    look_up_result = \"invalid key for dictionary\"",
      "metadata": {
        "trusted": true
      },
      "execution_count": 59,
      "outputs": []
    },
    {
      "cell_type": "code",
      "source": "look_up_result",
      "metadata": {
        "trusted": true
      },
      "execution_count": 60,
      "outputs": [
        {
          "execution_count": 60,
          "output_type": "execute_result",
          "data": {
            "text/plain": "'invalid key for dictionary'"
          },
          "metadata": {}
        }
      ]
    },
    {
      "cell_type": "code",
      "source": "import random\nfrom matplotlib import pyplot\n\nclass OpsEngineer(Engineer):  # define another sub-class of Engineer\n    \n    def deploy_release(self):\n        return random.choice([\"SUCCESS\", \"ERROR\"])\n\ndef pick_from(group, target):\n    return [member for member in group if type(member) is target]  # use \"[ ... for ... in ... if ... ]\" to filter a list\n\n# list of engineer objects\nteam = [\n    Engineer(\"Antonio\"), \n    Engineer(\"Naya\"), \n    Engineer(\"William\"), \n    TestEngineer(\"Nikola\"), \n    TestEngineer(\"Namisha\"), \n    OpsEngineer(\"Ken\")\n]\nsoftware_engineers = len(pick_from(team, Engineer))      # use \"len()\" to get the length of a list (similar to array.length in Java)\ntest_engineers     = len(pick_from(team, TestEngineer))\nops_engineers      = len(pick_from(team, OpsEngineer))\n\npyplot.pie(\n    [software_engineers, test_engineers, ops_engineers], \n    labels=[\"Software Engineers\", \"Test Engineers\", \"Ops Engineers\"]\n)\npyplot.show()",
      "metadata": {
        "trusted": true
      },
      "execution_count": 61,
      "outputs": [
        {
          "output_type": "display_data",
          "data": {
            "text/plain": "<pyolite.display.Image at 0x391ed98>",
            "image/png": "[encoded data removed]"
          },
          "metadata": {}
        },
        {
          "output_type": "display_data",
          "data": {
            "text/plain": "<Figure size 432x288 with 0 Axes>"
          },
          "metadata": {}
        }
      ]
    },
    {
      "cell_type": "markdown",
      "source": "## Loops, Conditions, Comprehensions",
      "metadata": {}
    },
    {
      "cell_type": "markdown",
      "source": "Execute code repeatedly, make decisions with code, and collect values.",
      "metadata": {}
    },
    {
      "cell_type": "markdown",
      "source": "### Loops",
      "metadata": {}
    },
    {
      "cell_type": "code",
      "source": "# list of dictionaries\ntests = [\n    {\"name\": \"login\", \"completion\": 0.85},\n    {\"name\": \"flow\", \"completion\": 0.62},\n    {\"name\": \"recording\", \"completion\": 0.45},\n    {\"name\": \"eligibility\", \"completion\": 0.20}\n]\ncompletion_rates = []  # empty list, this is a common way to initialize a new list\n\nfor test in tests:     # use \"for ... in ...\" to loop through a group of values\n    completion_rates.append(test[\"completion\"])  # indent the body of the loop with 4 spaces",
      "metadata": {
        "trusted": true
      },
      "execution_count": 62,
      "outputs": []
    },
    {
      "cell_type": "code",
      "source": "completion_rates",
      "metadata": {
        "trusted": true
      },
      "execution_count": 63,
      "outputs": [
        {
          "execution_count": 63,
          "output_type": "execute_result",
          "data": {
            "text/plain": "[0.85, 0.62, 0.45, 0.2]"
          },
          "metadata": {}
        }
      ]
    },
    {
      "cell_type": "code",
      "source": "additions = []\n\nfor n in range(5):  # use \"for ... in range(...)\" to loop through a range of (n - 1) numbers\n    additions.append(10 + n)",
      "metadata": {
        "trusted": true
      },
      "execution_count": 64,
      "outputs": []
    },
    {
      "cell_type": "code",
      "source": "additions",
      "metadata": {
        "trusted": true
      },
      "execution_count": 65,
      "outputs": [
        {
          "execution_count": 65,
          "output_type": "execute_result",
          "data": {
            "text/plain": "[10, 11, 12, 13, 14]"
          },
          "metadata": {}
        }
      ]
    },
    {
      "cell_type": "code",
      "source": "positions = [\"first\", \"second\", \"third\"]\nposition_indices = []\n\nfor index, position in enumerate(positions):  # use \"for ... in enumerate(...)\" to loop through index, value pairs\n    position_indices.append(f\"{position} is at: {index}\")",
      "metadata": {
        "trusted": true
      },
      "execution_count": 66,
      "outputs": []
    },
    {
      "cell_type": "code",
      "source": "position_indices",
      "metadata": {
        "trusted": true
      },
      "execution_count": 67,
      "outputs": [
        {
          "execution_count": 67,
          "output_type": "execute_result",
          "data": {
            "text/plain": "['first is at: 0', 'second is at: 1', 'third is at: 2']"
          },
          "metadata": {}
        }
      ]
    },
    {
      "cell_type": "code",
      "source": "def greatest_common_divisor(a, b):\n    while b != 0:  # use \"while ...\" to loop while a condition is True\n        t = b\n        b = a % b\n        a = t\n\n    return a\n\ndivisor = greatest_common_divisor(12, 30)",
      "metadata": {
        "trusted": true
      },
      "execution_count": 68,
      "outputs": []
    },
    {
      "cell_type": "code",
      "source": "divisor",
      "metadata": {
        "trusted": true
      },
      "execution_count": 69,
      "outputs": [
        {
          "execution_count": 69,
          "output_type": "execute_result",
          "data": {
            "text/plain": "6"
          },
          "metadata": {}
        }
      ]
    },
    {
      "cell_type": "markdown",
      "source": "### Conditions",
      "metadata": {}
    },
    {
      "cell_type": "code",
      "source": "test_results = [\"PASS\", \"FAIL\", \"PASS\", \"ERROR\", \"FAIL\", \"PASS\"]\npass_count = 0\n\nfor result in test_results:\n    if result == \"PASS\":    # use \"if ...\" to make a decision based on boolean logic\n        pass_count += 1",
      "metadata": {
        "trusted": true
      },
      "execution_count": 70,
      "outputs": []
    },
    {
      "cell_type": "code",
      "source": "pass_count",
      "metadata": {
        "trusted": true
      },
      "execution_count": 71,
      "outputs": [
        {
          "execution_count": 71,
          "output_type": "execute_result",
          "data": {
            "text/plain": "3"
          },
          "metadata": {}
        }
      ]
    },
    {
      "cell_type": "code",
      "source": "import random\n\ndef deploy_decision(result: str) -> str:\n    if result == \"PASS\":\n        return \"GO\"\n    elif result == \"ERROR\":  # give more cases of the condition with the word \"elif\" ...\n        return \"WAIT\"\n    else:                    # ... and use \"else\" for any other conditions that do not match\n        return \"ABORT\"\n\noverall_test_result = random.choice([\"PASS\", \"FAIL\", \"ERROR\"])",
      "metadata": {
        "trusted": true
      },
      "execution_count": 72,
      "outputs": []
    },
    {
      "cell_type": "code",
      "source": "deploy_decision(overall_test_result)",
      "metadata": {
        "trusted": true
      },
      "execution_count": 73,
      "outputs": [
        {
          "execution_count": 73,
          "output_type": "execute_result",
          "data": {
            "text/plain": "'WAIT'"
          },
          "metadata": {}
        }
      ]
    },
    {
      "cell_type": "markdown",
      "source": "### Comprehensions",
      "metadata": {}
    },
    {
      "cell_type": "code",
      "source": "names = [\"mark\", \"linda\", \"carlos\", \"brandon\", \"katerina\"]  # list of strings\ncapitalized_names = [name.capitalize() for name in names]   # use \"[ ... for ... in ... ]\" to loop and collect values in a list",
      "metadata": {
        "trusted": true
      },
      "execution_count": 74,
      "outputs": []
    },
    {
      "cell_type": "code",
      "source": "capitalized_names",
      "metadata": {
        "trusted": true
      },
      "execution_count": 75,
      "outputs": [
        {
          "execution_count": 75,
          "output_type": "execute_result",
          "data": {
            "text/plain": "['Mark', 'Linda', 'Carlos', 'Brandon', 'Katerina']"
          },
          "metadata": {}
        }
      ]
    },
    {
      "cell_type": "code",
      "source": "words = [\"data\", \"continuous\", \"shape\", \"axis\", \"point\", \"control\"]\nword_lengths = {word: len(word) for word in words}  # use \"{ ___: ... for ... in ... }\" to loop and collect values into a dictionary",
      "metadata": {
        "trusted": true
      },
      "execution_count": 76,
      "outputs": []
    },
    {
      "cell_type": "code",
      "source": "word_lengths",
      "metadata": {
        "trusted": true
      },
      "execution_count": 77,
      "outputs": [
        {
          "execution_count": 77,
          "output_type": "execute_result",
          "data": {
            "text/plain": "{'data': 4, 'continuous': 10, 'shape': 5, 'axis': 4, 'point': 5, 'control': 7}"
          },
          "metadata": {}
        }
      ]
    },
    {
      "cell_type": "code",
      "source": "from matplotlib import pyplot\n\ntest_result_data = [\n    {\"name\": \"login\",    \"pass_rate\": 0.90, \"coverage\": 0.85},\n    {\"name\": \"flow\",     \"pass_rate\": 0.75, \"coverage\": 0.62},\n    {\"name\": \"record\",   \"pass_rate\": 0.55, \"coverage\": 0.45},\n    {\"name\": \"elig\",     \"pass_rate\": 0.30, \"coverage\": 0.25},\n    {\"name\": \"session\",  \"pass_rate\": 0.65, \"coverage\": 0.50},\n    {\"name\": \"reminder\", \"pass_rate\": 0.00, \"coverage\": 0.00}\n]\nvalue_range = [0, 1.0]\n\n\n# collect coverage and pass_rate data for the graph\n# choose to skip the \"reminder\" data\ncoverage = [\n    data_point[\"coverage\"] for data_point in test_result_data\n    if data_point[\"name\"] != \"reminder\"\n]\npass_rates = [\n    data_point[\"pass_rate\"] for data_point in test_result_data\n    if data_point[\"name\"] != \"reminder\"\n]\n\npyplot.scatter(\n    coverage,\n    pass_rates,\n    marker=\"x\",\n    color=\"tab:orange\",\n    s=200\n)\npyplot.xlabel(\"Test Coverage %\")\npyplot.ylabel(\"Test Pass Rate (x/100)\")\npyplot.xlim(value_range)\npyplot.ylim(value_range)\npyplot.show()",
      "metadata": {
        "trusted": true
      },
      "execution_count": 78,
      "outputs": [
        {
          "output_type": "display_data",
          "data": {
            "text/plain": "<pyolite.display.Image at 0x3919850>",
            "image/png": "[encoded data removed]"
          },
          "metadata": {}
        },
        {
          "output_type": "display_data",
          "data": {
            "text/plain": "<Figure size 432x288 with 0 Axes>"
          },
          "metadata": {}
        }
      ]
    }
  ]
}